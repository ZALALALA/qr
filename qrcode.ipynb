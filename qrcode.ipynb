{
  "cells": [
    {
      "cell_type": "markdown",
      "metadata": {
        "id": "view-in-github",
        "colab_type": "text"
      },
      "source": [
        "<a href=\"https://colab.research.google.com/github/ZALALALA/qr/blob/main/qrcode.ipynb\" target=\"_parent\"><img src=\"https://colab.research.google.com/assets/colab-badge.svg\" alt=\"Open In Colab\"/></a>"
      ]
    },
    {
      "cell_type": "code",
      "execution_count": null,
      "metadata": {
        "id": "nKmqpApzjtMi"
      },
      "outputs": [],
      "source": [
        "!pip install torch torchvision"
      ]
    },
    {
      "cell_type": "code",
      "execution_count": null,
      "metadata": {
        "id": "AEzplcTSj0Ec"
      },
      "outputs": [],
      "source": [
        "!pip install streamlit"
      ]
    },
    {
      "cell_type": "code",
      "execution_count": null,
      "metadata": {
        "id": "9PflxFKUj4Ot"
      },
      "outputs": [],
      "source": [
        "!pip install pillow"
      ]
    },
    {
      "cell_type": "code",
      "execution_count": null,
      "metadata": {
        "id": "f4wRx7Y-j6W3"
      },
      "outputs": [],
      "source": [
        "!pip install qrcode"
      ]
    },
    {
      "cell_type": "code",
      "execution_count": null,
      "metadata": {
        "id": "tJoQapIMkSum"
      },
      "outputs": [],
      "source": [
        "!pip install diffusers"
      ]
    },
    {
      "cell_type": "code",
      "execution_count": null,
      "metadata": {
        "id": "PApZJpONlcYv"
      },
      "outputs": [],
      "source": [
        "!pip install torch torchvision transformers"
      ]
    },
    {
      "cell_type": "code",
      "execution_count": null,
      "metadata": {
        "id": "dcPbhKgDm0Pl"
      },
      "outputs": [],
      "source": [
        "!pip install accelerate"
      ]
    },
    {
      "cell_type": "code",
      "execution_count": null,
      "metadata": {
        "id": "BIY1cX3Gn-_U"
      },
      "outputs": [],
      "source": [
        "!pip install xformers"
      ]
    },
    {
      "cell_type": "code",
      "execution_count": 9,
      "metadata": {
        "id": "LhtbGyAikEKA"
      },
      "outputs": [],
      "source": [
        "import torch\n",
        "import streamlit as st\n",
        "from PIL import Image\n",
        "import qrcode"
      ]
    },
    {
      "cell_type": "code",
      "execution_count": 10,
      "metadata": {
        "id": "POVJmvFBkJXP"
      },
      "outputs": [],
      "source": [
        "from diffusers import (\n",
        "    StableDiffusionPipeline,\n",
        "    StableDiffusionControlNetImg2ImgPipeline,\n",
        "    ControlNetModel,\n",
        "    DDIMScheduler,\n",
        "    DPMSolverMultistepScheduler,\n",
        "    DEISMultistepScheduler,\n",
        "    HeunDiscreteScheduler,\n",
        "    EulerDiscreteScheduler,\n",
        ")"
      ]
    },
    {
      "cell_type": "code",
      "execution_count": 11,
      "metadata": {
        "id": "goADViuOkdjJ"
      },
      "outputs": [],
      "source": [
        "qrcode_generator = qrcode.QRCode(\n",
        "    version=1,\n",
        "    error_correction=qrcode.ERROR_CORRECT_H,\n",
        "    box_size=10,\n",
        "    border=4,\n",
        ")"
      ]
    },
    {
      "cell_type": "code",
      "execution_count": 12,
      "metadata": {
        "colab": {
          "base_uri": "https://localhost:8080/",
          "height": 81,
          "referenced_widgets": [
            "22074b0ef3e5489a80e8e55b3e791b72",
            "4526a844cb0d4897ab53c086cdb84c0c",
            "d5f5d171b6a348eab950d5184f9d85a4",
            "becaae93fa664cb39c8813ffa8f15eff",
            "8f6125fc517e4b0bbf04f589bb6fb04c",
            "afb361c47808400c90751c10760bed4c",
            "a6221e8cdc0544888a607ec5f386f0ac",
            "4989d7bc3acb4ae7a290ab9570f0c09f",
            "43b9b699bd404771b1b9a355c67b57bb",
            "ce00d112ffe34516839ca8431c13536e",
            "c0f5c919eaf04c5c8b2ce0642ada3601",
            "ee244a9730d646c79c05dc541dc7430d",
            "5ec6cab139bb4348a2a649a5a78ca7c3",
            "d54c82d714fa435d90925f475b0ffdc4",
            "67f57552baed44b38d0acf746dda0b76",
            "4cc68f800b6d4fa99ccf7ff0555dcc40",
            "fb366c9a312a412d91ca3e22e8314680",
            "14889131d8854b09a34001d835e46209",
            "bcc0551b956e48bc807365f20b84306d",
            "9cb7467d9d9141d9a562f39286df399a",
            "1f2e01cf015a4735b480039e31180b05",
            "54be5f79a3e548f69795cda9e9a6179c"
          ]
        },
        "id": "H79CPOtTkg6A",
        "outputId": "3272d5e0-a106-4ebc-c455-f8c9345e9671"
      },
      "outputs": [
        {
          "output_type": "display_data",
          "data": {
            "text/plain": [
              "Downloading (…)lve/main/config.json:   0%|          | 0.00/954 [00:00<?, ?B/s]"
            ],
            "application/vnd.jupyter.widget-view+json": {
              "version_major": 2,
              "version_minor": 0,
              "model_id": "22074b0ef3e5489a80e8e55b3e791b72"
            }
          },
          "metadata": {}
        },
        {
          "output_type": "display_data",
          "data": {
            "text/plain": [
              "Downloading (…)ch_model.safetensors:   0%|          | 0.00/1.45G [00:00<?, ?B/s]"
            ],
            "application/vnd.jupyter.widget-view+json": {
              "version_major": 2,
              "version_minor": 0,
              "model_id": "ee244a9730d646c79c05dc541dc7430d"
            }
          },
          "metadata": {}
        }
      ],
      "source": [
        "controlnet = ControlNetModel.from_pretrained(\n",
        "    \"DionTimmer/controlnet_qrcode-control_v1p_sd15\", torch_dtype=torch.float16\n",
        ")"
      ]
    },
    {
      "cell_type": "code",
      "execution_count": null,
      "metadata": {
        "id": "kEXJd1VZnXLp"
      },
      "outputs": [],
      "source": [
        "pipe = StableDiffusionControlNetImg2ImgPipeline.from_pretrained(\n",
        "    \"runwayml/stable-diffusion-v1-5\",\n",
        "    controlnet=controlnet,\n",
        "    safety_checker=None,\n",
        "    torch_dtype=torch.float16,\n",
        ").to(\"cuda\")\n",
        "pipe.enable_xformers_memory_efficient_attention()\n"
      ]
    },
    {
      "cell_type": "code",
      "execution_count": 14,
      "metadata": {
        "id": "CFP4dK0YVCb_"
      },
      "outputs": [],
      "source": [
        "def resize_for_condition_image(input_image: Image.Image, resolution: int):\n",
        "    input_image = input_image.convert(\"RGB\")\n",
        "    W, H = input_image.size\n",
        "    k = float(resolution) / min(H, W)\n",
        "    H *= k\n",
        "    W *= k\n",
        "    H = int(round(H / 64.0)) * 64\n",
        "    W = int(round(W / 64.0)) * 64\n",
        "    img = input_image.resize((W, H), resample=Image.LANCZOS)\n",
        "    return img"
      ]
    },
    {
      "cell_type": "code",
      "execution_count": 15,
      "metadata": {
        "id": "SgL8CAuxVFi0"
      },
      "outputs": [],
      "source": [
        "SAMPLER_MAP = {\n",
        "    \"DPM++ Karras SDE\": lambda config: DPMSolverMultistepScheduler.from_config(\n",
        "        config, use_karras=True, algorithm_type=\"sde-dpmsolver++\"\n",
        "    ),\n",
        "    \"DPM++ Karras\": lambda config: DPMSolverMultistepScheduler.from_config(\n",
        "        config, use_karras=True\n",
        "    ),\n",
        "    \"Heun\": lambda config: HeunDiscreteScheduler.from_config(config),\n",
        "    \"Euler\": lambda config: EulerDiscreteScheduler.from_config(config),\n",
        "    \"DDIM\": lambda config: DDIMScheduler.from_config(config),\n",
        "    \"DEIS\": lambda config: DEISMultistepScheduler.from_config(config),\n",
        "}"
      ]
    },
    {
      "cell_type": "code",
      "execution_count": 16,
      "metadata": {
        "id": "uGuw84DfVL_A"
      },
      "outputs": [],
      "source": [
        "\n",
        "def generate_artistic_qr_code(qr_content, qr_image, prompt, scaling_factor, strength, seed, sampler, diffusion_steps):\n",
        "    if qr_content:\n",
        "        qrcode_generator.clear()\n",
        "        qrcode_generator.add_data(qr_content)\n",
        "        qrcode_generator.make(fit=True)\n",
        "        qr_image = qrcode_generator.make_image(fill_color=\"black\", back_color=\"white\")\n",
        "    else:\n",
        "        qr_image = Image.open(qr_image).convert(\"1\")\n",
        "\n",
        "    with torch.no_grad():\n",
        "        image = torch.tensor([resize_for_condition_image(qr_image, 256)], device=\"cuda\").permute(0, 3, 1, 2)\n",
        "        prompt_text = prompt\n",
        "        prompt_text = prompt_text.strip().replace(\"\\n\", \" \\\\n \")\n",
        "        prompt_text = f\" {prompt_text} \"\n",
        "\n",
        "        result_image = pipe.run(\n",
        "            image,\n",
        "            prompt=prompt_text,\n",
        "            strength=strength,\n",
        "            scale=scaling_factor,\n",
        "            seed=seed,\n",
        "            sampler=SAMPLER_MAP[sampler],\n",
        "            num_diffusion_steps=diffusion_steps,\n",
        "        )[0].cpu()\n",
        "\n",
        "        result_image = Image.fromarray(result_image)\n",
        "\n",
        "    return result_image\n"
      ]
    },
    {
      "cell_type": "code",
      "execution_count": 17,
      "metadata": {
        "colab": {
          "base_uri": "https://localhost:8080/"
        },
        "id": "4Ona2wNtWTQG",
        "outputId": "130db8a6-7512-4550-eb81-230235744460"
      },
      "outputs": [
        {
          "output_type": "stream",
          "name": "stderr",
          "text": [
            "2023-06-21 22:38:09.792 \n",
            "  \u001b[33m\u001b[1mWarning:\u001b[0m to view this Streamlit app on a browser, run it with the following\n",
            "  command:\n",
            "\n",
            "    streamlit run /usr/local/lib/python3.10/dist-packages/ipykernel_launcher.py [ARGUMENTS]\n"
          ]
        }
      ],
      "source": [
        "def main():\n",
        "    st.title(\"QR Code AI Art Generator\")\n",
        "    st.markdown(\n",
        "        \"\"\"\n",
        "        ## 💡 How to Use\n",
        "        This app generates artistic QR codes using AI. You can provide a QR code content or upload a QR code image, and specify a prompt that guides the generation process. The generated QR code will be an artistic representation based on the given input.\n",
        "\n",
        "        The app uses the Stable Diffusion pipeline along with a ControlNet model to generate the QR code art.\n",
        "\n",
        "        - **QR Code Content**: Enter the content or URL that the QR code should represent.\n",
        "        - **QR Code Image (Optional)**: You can upload a QR code image instead of providing the content directly. If both content and image are provided, the image takes precedence.\n",
        "        - **Prompt**: Enter a prompt that guides the generation. This can be a short description of the desired artistic style or any other guiding instructions.\n",
        "        - **Negative Prompt**: Words that describe what the generated QR code should not look like.\n",
        "        - **Controlnet Conditioning Scale**: Controls the strength of the conditioning on the control image. Higher values result in more influence from the control image.\n",
        "        - **Strength**: Controls the amount of noise added to the QR code image. Higher values result in more artistic distortion.\n",
        "        - **Seed**: Controls the random seed used for generation. Changing the seed will produce a different result.\n",
        "        - **Sampler**: Select the diffusion sampler to use. Different samplers may produce different results.\n",
        "        - **Number of Diffusion Steps**: Controls the number of diffusion steps taken during the generation process. Higher values may result in more refined images but also increase computation time.\n",
        "\n",
        "        Once you have provided the necessary inputs, click the **Generate QR Code Art** button to see the result.\n",
        "        \"\"\"\n",
        "    )\n",
        "\n",
        "    qr_code_content = st.text_input(\"QR Code Content\", help=\"QR Code Content or URL\")\n",
        "    qr_code_image = st.file_uploader(\"QR Code Image (Optional)\", type=[\"png\", \"jpg\", \"jpeg\"])\n",
        "    prompt = st.text_input(\"Prompt\", help=\"Prompt that guides the generation\")\n",
        "    negative_prompt = st.text_input(\n",
        "        \"Negative Prompt\",\n",
        "        value=\"ugly, disfigured, low quality, blurry, nsfw\",\n",
        "        help=\"Words that describe what the generated QR code should not look like\",\n",
        "    )\n",
        "    scaling_factor = st.slider(\"Controlnet Conditioning Scale\", min_value=0.0, max_value=5.0, step=0.01, value=1.1)\n",
        "    strength = st.slider(\"Strength\", min_value=0.0, max_value=1.0, step=0.01, value=0.9)\n",
        "    seed = st.slider(\"Seed\", min_value=-1, max_value=9999999999, step=1, value=2313123, format=\"%d\")\n",
        "    sampler = st.selectbox(\"Sampler\", list(SAMPLER_MAP.keys()), index=0)\n",
        "    diffusion_steps = st.number_input(\"Number of Diffusion Steps\", min_value=1, value=40, step=1, format=\"%d\")\n",
        "\n",
        "    if st.button(\"Generate QR Code Art\"):\n",
        "        result = generate_artistic_qr_code(\n",
        "            qr_code_content,\n",
        "            qr_code_image,\n",
        "            prompt,\n",
        "            scaling_factor,\n",
        "            strength,\n",
        "            seed,\n",
        "            sampler,\n",
        "            diffusion_steps,\n",
        "        )\n",
        "        st.image(result, caption=\"Result Image\", use_column_width=True)\n",
        "\n",
        "\n",
        "if __name__ == \"__main__\":\n",
        "    main()"
      ]
    },
    {
      "cell_type": "code",
      "execution_count": 20,
      "metadata": {
        "colab": {
          "base_uri": "https://localhost:8080/"
        },
        "id": "gSOZGE0PZQ4m",
        "outputId": "ad8732e9-091e-41cb-8b6c-11a73364166f"
      },
      "outputs": [
        {
          "output_type": "stream",
          "name": "stdout",
          "text": [
            "/content\n",
            "\n",
            "Collecting usage statistics. To deactivate, set browser.gatherUsageStats to False.\n",
            "\u001b[0m\n",
            "\u001b[0m\n",
            "\u001b[34m\u001b[1m  You can now view your Streamlit app in your browser.\u001b[0m\n",
            "\u001b[0m\n",
            "\u001b[34m  Network URL: \u001b[0m\u001b[1mhttp://172.28.0.12:8501\u001b[0m\n",
            "\u001b[34m  External URL: \u001b[0m\u001b[1mhttp://34.30.55.21:8501\u001b[0m\n",
            "\u001b[0m\n",
            "\u001b[34m  Stopping...\u001b[0m\n"
          ]
        }
      ],
      "source": [
        "%cd /content\n",
        "!streamlit run qrcode.py\n"
      ]
    }
  ],
  "metadata": {
    "accelerator": "GPU",
    "colab": {
      "provenance": [],
      "authorship_tag": "ABX9TyNc4V02S066CjjfuIAMA1HY",
      "include_colab_link": true
    },
    "kernelspec": {
      "display_name": "Python 3",
      "name": "python3"
    },
    "language_info": {
      "name": "python"
    },
    "widgets": {
      "application/vnd.jupyter.widget-state+json": {
        "22074b0ef3e5489a80e8e55b3e791b72": {
          "model_module": "@jupyter-widgets/controls",
          "model_name": "HBoxModel",
          "model_module_version": "1.5.0",
          "state": {
            "_dom_classes": [],
            "_model_module": "@jupyter-widgets/controls",
            "_model_module_version": "1.5.0",
            "_model_name": "HBoxModel",
            "_view_count": null,
            "_view_module": "@jupyter-widgets/controls",
            "_view_module_version": "1.5.0",
            "_view_name": "HBoxView",
            "box_style": "",
            "children": [
              "IPY_MODEL_4526a844cb0d4897ab53c086cdb84c0c",
              "IPY_MODEL_d5f5d171b6a348eab950d5184f9d85a4",
              "IPY_MODEL_becaae93fa664cb39c8813ffa8f15eff"
            ],
            "layout": "IPY_MODEL_8f6125fc517e4b0bbf04f589bb6fb04c"
          }
        },
        "4526a844cb0d4897ab53c086cdb84c0c": {
          "model_module": "@jupyter-widgets/controls",
          "model_name": "HTMLModel",
          "model_module_version": "1.5.0",
          "state": {
            "_dom_classes": [],
            "_model_module": "@jupyter-widgets/controls",
            "_model_module_version": "1.5.0",
            "_model_name": "HTMLModel",
            "_view_count": null,
            "_view_module": "@jupyter-widgets/controls",
            "_view_module_version": "1.5.0",
            "_view_name": "HTMLView",
            "description": "",
            "description_tooltip": null,
            "layout": "IPY_MODEL_afb361c47808400c90751c10760bed4c",
            "placeholder": "​",
            "style": "IPY_MODEL_a6221e8cdc0544888a607ec5f386f0ac",
            "value": "Downloading (…)lve/main/config.json: 100%"
          }
        },
        "d5f5d171b6a348eab950d5184f9d85a4": {
          "model_module": "@jupyter-widgets/controls",
          "model_name": "FloatProgressModel",
          "model_module_version": "1.5.0",
          "state": {
            "_dom_classes": [],
            "_model_module": "@jupyter-widgets/controls",
            "_model_module_version": "1.5.0",
            "_model_name": "FloatProgressModel",
            "_view_count": null,
            "_view_module": "@jupyter-widgets/controls",
            "_view_module_version": "1.5.0",
            "_view_name": "ProgressView",
            "bar_style": "success",
            "description": "",
            "description_tooltip": null,
            "layout": "IPY_MODEL_4989d7bc3acb4ae7a290ab9570f0c09f",
            "max": 954,
            "min": 0,
            "orientation": "horizontal",
            "style": "IPY_MODEL_43b9b699bd404771b1b9a355c67b57bb",
            "value": 954
          }
        },
        "becaae93fa664cb39c8813ffa8f15eff": {
          "model_module": "@jupyter-widgets/controls",
          "model_name": "HTMLModel",
          "model_module_version": "1.5.0",
          "state": {
            "_dom_classes": [],
            "_model_module": "@jupyter-widgets/controls",
            "_model_module_version": "1.5.0",
            "_model_name": "HTMLModel",
            "_view_count": null,
            "_view_module": "@jupyter-widgets/controls",
            "_view_module_version": "1.5.0",
            "_view_name": "HTMLView",
            "description": "",
            "description_tooltip": null,
            "layout": "IPY_MODEL_ce00d112ffe34516839ca8431c13536e",
            "placeholder": "​",
            "style": "IPY_MODEL_c0f5c919eaf04c5c8b2ce0642ada3601",
            "value": " 954/954 [00:00&lt;00:00, 55.7kB/s]"
          }
        },
        "8f6125fc517e4b0bbf04f589bb6fb04c": {
          "model_module": "@jupyter-widgets/base",
          "model_name": "LayoutModel",
          "model_module_version": "1.2.0",
          "state": {
            "_model_module": "@jupyter-widgets/base",
            "_model_module_version": "1.2.0",
            "_model_name": "LayoutModel",
            "_view_count": null,
            "_view_module": "@jupyter-widgets/base",
            "_view_module_version": "1.2.0",
            "_view_name": "LayoutView",
            "align_content": null,
            "align_items": null,
            "align_self": null,
            "border": null,
            "bottom": null,
            "display": null,
            "flex": null,
            "flex_flow": null,
            "grid_area": null,
            "grid_auto_columns": null,
            "grid_auto_flow": null,
            "grid_auto_rows": null,
            "grid_column": null,
            "grid_gap": null,
            "grid_row": null,
            "grid_template_areas": null,
            "grid_template_columns": null,
            "grid_template_rows": null,
            "height": null,
            "justify_content": null,
            "justify_items": null,
            "left": null,
            "margin": null,
            "max_height": null,
            "max_width": null,
            "min_height": null,
            "min_width": null,
            "object_fit": null,
            "object_position": null,
            "order": null,
            "overflow": null,
            "overflow_x": null,
            "overflow_y": null,
            "padding": null,
            "right": null,
            "top": null,
            "visibility": null,
            "width": null
          }
        },
        "afb361c47808400c90751c10760bed4c": {
          "model_module": "@jupyter-widgets/base",
          "model_name": "LayoutModel",
          "model_module_version": "1.2.0",
          "state": {
            "_model_module": "@jupyter-widgets/base",
            "_model_module_version": "1.2.0",
            "_model_name": "LayoutModel",
            "_view_count": null,
            "_view_module": "@jupyter-widgets/base",
            "_view_module_version": "1.2.0",
            "_view_name": "LayoutView",
            "align_content": null,
            "align_items": null,
            "align_self": null,
            "border": null,
            "bottom": null,
            "display": null,
            "flex": null,
            "flex_flow": null,
            "grid_area": null,
            "grid_auto_columns": null,
            "grid_auto_flow": null,
            "grid_auto_rows": null,
            "grid_column": null,
            "grid_gap": null,
            "grid_row": null,
            "grid_template_areas": null,
            "grid_template_columns": null,
            "grid_template_rows": null,
            "height": null,
            "justify_content": null,
            "justify_items": null,
            "left": null,
            "margin": null,
            "max_height": null,
            "max_width": null,
            "min_height": null,
            "min_width": null,
            "object_fit": null,
            "object_position": null,
            "order": null,
            "overflow": null,
            "overflow_x": null,
            "overflow_y": null,
            "padding": null,
            "right": null,
            "top": null,
            "visibility": null,
            "width": null
          }
        },
        "a6221e8cdc0544888a607ec5f386f0ac": {
          "model_module": "@jupyter-widgets/controls",
          "model_name": "DescriptionStyleModel",
          "model_module_version": "1.5.0",
          "state": {
            "_model_module": "@jupyter-widgets/controls",
            "_model_module_version": "1.5.0",
            "_model_name": "DescriptionStyleModel",
            "_view_count": null,
            "_view_module": "@jupyter-widgets/base",
            "_view_module_version": "1.2.0",
            "_view_name": "StyleView",
            "description_width": ""
          }
        },
        "4989d7bc3acb4ae7a290ab9570f0c09f": {
          "model_module": "@jupyter-widgets/base",
          "model_name": "LayoutModel",
          "model_module_version": "1.2.0",
          "state": {
            "_model_module": "@jupyter-widgets/base",
            "_model_module_version": "1.2.0",
            "_model_name": "LayoutModel",
            "_view_count": null,
            "_view_module": "@jupyter-widgets/base",
            "_view_module_version": "1.2.0",
            "_view_name": "LayoutView",
            "align_content": null,
            "align_items": null,
            "align_self": null,
            "border": null,
            "bottom": null,
            "display": null,
            "flex": null,
            "flex_flow": null,
            "grid_area": null,
            "grid_auto_columns": null,
            "grid_auto_flow": null,
            "grid_auto_rows": null,
            "grid_column": null,
            "grid_gap": null,
            "grid_row": null,
            "grid_template_areas": null,
            "grid_template_columns": null,
            "grid_template_rows": null,
            "height": null,
            "justify_content": null,
            "justify_items": null,
            "left": null,
            "margin": null,
            "max_height": null,
            "max_width": null,
            "min_height": null,
            "min_width": null,
            "object_fit": null,
            "object_position": null,
            "order": null,
            "overflow": null,
            "overflow_x": null,
            "overflow_y": null,
            "padding": null,
            "right": null,
            "top": null,
            "visibility": null,
            "width": null
          }
        },
        "43b9b699bd404771b1b9a355c67b57bb": {
          "model_module": "@jupyter-widgets/controls",
          "model_name": "ProgressStyleModel",
          "model_module_version": "1.5.0",
          "state": {
            "_model_module": "@jupyter-widgets/controls",
            "_model_module_version": "1.5.0",
            "_model_name": "ProgressStyleModel",
            "_view_count": null,
            "_view_module": "@jupyter-widgets/base",
            "_view_module_version": "1.2.0",
            "_view_name": "StyleView",
            "bar_color": null,
            "description_width": ""
          }
        },
        "ce00d112ffe34516839ca8431c13536e": {
          "model_module": "@jupyter-widgets/base",
          "model_name": "LayoutModel",
          "model_module_version": "1.2.0",
          "state": {
            "_model_module": "@jupyter-widgets/base",
            "_model_module_version": "1.2.0",
            "_model_name": "LayoutModel",
            "_view_count": null,
            "_view_module": "@jupyter-widgets/base",
            "_view_module_version": "1.2.0",
            "_view_name": "LayoutView",
            "align_content": null,
            "align_items": null,
            "align_self": null,
            "border": null,
            "bottom": null,
            "display": null,
            "flex": null,
            "flex_flow": null,
            "grid_area": null,
            "grid_auto_columns": null,
            "grid_auto_flow": null,
            "grid_auto_rows": null,
            "grid_column": null,
            "grid_gap": null,
            "grid_row": null,
            "grid_template_areas": null,
            "grid_template_columns": null,
            "grid_template_rows": null,
            "height": null,
            "justify_content": null,
            "justify_items": null,
            "left": null,
            "margin": null,
            "max_height": null,
            "max_width": null,
            "min_height": null,
            "min_width": null,
            "object_fit": null,
            "object_position": null,
            "order": null,
            "overflow": null,
            "overflow_x": null,
            "overflow_y": null,
            "padding": null,
            "right": null,
            "top": null,
            "visibility": null,
            "width": null
          }
        },
        "c0f5c919eaf04c5c8b2ce0642ada3601": {
          "model_module": "@jupyter-widgets/controls",
          "model_name": "DescriptionStyleModel",
          "model_module_version": "1.5.0",
          "state": {
            "_model_module": "@jupyter-widgets/controls",
            "_model_module_version": "1.5.0",
            "_model_name": "DescriptionStyleModel",
            "_view_count": null,
            "_view_module": "@jupyter-widgets/base",
            "_view_module_version": "1.2.0",
            "_view_name": "StyleView",
            "description_width": ""
          }
        },
        "ee244a9730d646c79c05dc541dc7430d": {
          "model_module": "@jupyter-widgets/controls",
          "model_name": "HBoxModel",
          "model_module_version": "1.5.0",
          "state": {
            "_dom_classes": [],
            "_model_module": "@jupyter-widgets/controls",
            "_model_module_version": "1.5.0",
            "_model_name": "HBoxModel",
            "_view_count": null,
            "_view_module": "@jupyter-widgets/controls",
            "_view_module_version": "1.5.0",
            "_view_name": "HBoxView",
            "box_style": "",
            "children": [
              "IPY_MODEL_5ec6cab139bb4348a2a649a5a78ca7c3",
              "IPY_MODEL_d54c82d714fa435d90925f475b0ffdc4",
              "IPY_MODEL_67f57552baed44b38d0acf746dda0b76"
            ],
            "layout": "IPY_MODEL_4cc68f800b6d4fa99ccf7ff0555dcc40"
          }
        },
        "5ec6cab139bb4348a2a649a5a78ca7c3": {
          "model_module": "@jupyter-widgets/controls",
          "model_name": "HTMLModel",
          "model_module_version": "1.5.0",
          "state": {
            "_dom_classes": [],
            "_model_module": "@jupyter-widgets/controls",
            "_model_module_version": "1.5.0",
            "_model_name": "HTMLModel",
            "_view_count": null,
            "_view_module": "@jupyter-widgets/controls",
            "_view_module_version": "1.5.0",
            "_view_name": "HTMLView",
            "description": "",
            "description_tooltip": null,
            "layout": "IPY_MODEL_fb366c9a312a412d91ca3e22e8314680",
            "placeholder": "​",
            "style": "IPY_MODEL_14889131d8854b09a34001d835e46209",
            "value": "Downloading (…)ch_model.safetensors: 100%"
          }
        },
        "d54c82d714fa435d90925f475b0ffdc4": {
          "model_module": "@jupyter-widgets/controls",
          "model_name": "FloatProgressModel",
          "model_module_version": "1.5.0",
          "state": {
            "_dom_classes": [],
            "_model_module": "@jupyter-widgets/controls",
            "_model_module_version": "1.5.0",
            "_model_name": "FloatProgressModel",
            "_view_count": null,
            "_view_module": "@jupyter-widgets/controls",
            "_view_module_version": "1.5.0",
            "_view_name": "ProgressView",
            "bar_style": "success",
            "description": "",
            "description_tooltip": null,
            "layout": "IPY_MODEL_bcc0551b956e48bc807365f20b84306d",
            "max": 1445157120,
            "min": 0,
            "orientation": "horizontal",
            "style": "IPY_MODEL_9cb7467d9d9141d9a562f39286df399a",
            "value": 1445157120
          }
        },
        "67f57552baed44b38d0acf746dda0b76": {
          "model_module": "@jupyter-widgets/controls",
          "model_name": "HTMLModel",
          "model_module_version": "1.5.0",
          "state": {
            "_dom_classes": [],
            "_model_module": "@jupyter-widgets/controls",
            "_model_module_version": "1.5.0",
            "_model_name": "HTMLModel",
            "_view_count": null,
            "_view_module": "@jupyter-widgets/controls",
            "_view_module_version": "1.5.0",
            "_view_name": "HTMLView",
            "description": "",
            "description_tooltip": null,
            "layout": "IPY_MODEL_1f2e01cf015a4735b480039e31180b05",
            "placeholder": "​",
            "style": "IPY_MODEL_54be5f79a3e548f69795cda9e9a6179c",
            "value": " 1.45G/1.45G [00:29&lt;00:00, 53.0MB/s]"
          }
        },
        "4cc68f800b6d4fa99ccf7ff0555dcc40": {
          "model_module": "@jupyter-widgets/base",
          "model_name": "LayoutModel",
          "model_module_version": "1.2.0",
          "state": {
            "_model_module": "@jupyter-widgets/base",
            "_model_module_version": "1.2.0",
            "_model_name": "LayoutModel",
            "_view_count": null,
            "_view_module": "@jupyter-widgets/base",
            "_view_module_version": "1.2.0",
            "_view_name": "LayoutView",
            "align_content": null,
            "align_items": null,
            "align_self": null,
            "border": null,
            "bottom": null,
            "display": null,
            "flex": null,
            "flex_flow": null,
            "grid_area": null,
            "grid_auto_columns": null,
            "grid_auto_flow": null,
            "grid_auto_rows": null,
            "grid_column": null,
            "grid_gap": null,
            "grid_row": null,
            "grid_template_areas": null,
            "grid_template_columns": null,
            "grid_template_rows": null,
            "height": null,
            "justify_content": null,
            "justify_items": null,
            "left": null,
            "margin": null,
            "max_height": null,
            "max_width": null,
            "min_height": null,
            "min_width": null,
            "object_fit": null,
            "object_position": null,
            "order": null,
            "overflow": null,
            "overflow_x": null,
            "overflow_y": null,
            "padding": null,
            "right": null,
            "top": null,
            "visibility": null,
            "width": null
          }
        },
        "fb366c9a312a412d91ca3e22e8314680": {
          "model_module": "@jupyter-widgets/base",
          "model_name": "LayoutModel",
          "model_module_version": "1.2.0",
          "state": {
            "_model_module": "@jupyter-widgets/base",
            "_model_module_version": "1.2.0",
            "_model_name": "LayoutModel",
            "_view_count": null,
            "_view_module": "@jupyter-widgets/base",
            "_view_module_version": "1.2.0",
            "_view_name": "LayoutView",
            "align_content": null,
            "align_items": null,
            "align_self": null,
            "border": null,
            "bottom": null,
            "display": null,
            "flex": null,
            "flex_flow": null,
            "grid_area": null,
            "grid_auto_columns": null,
            "grid_auto_flow": null,
            "grid_auto_rows": null,
            "grid_column": null,
            "grid_gap": null,
            "grid_row": null,
            "grid_template_areas": null,
            "grid_template_columns": null,
            "grid_template_rows": null,
            "height": null,
            "justify_content": null,
            "justify_items": null,
            "left": null,
            "margin": null,
            "max_height": null,
            "max_width": null,
            "min_height": null,
            "min_width": null,
            "object_fit": null,
            "object_position": null,
            "order": null,
            "overflow": null,
            "overflow_x": null,
            "overflow_y": null,
            "padding": null,
            "right": null,
            "top": null,
            "visibility": null,
            "width": null
          }
        },
        "14889131d8854b09a34001d835e46209": {
          "model_module": "@jupyter-widgets/controls",
          "model_name": "DescriptionStyleModel",
          "model_module_version": "1.5.0",
          "state": {
            "_model_module": "@jupyter-widgets/controls",
            "_model_module_version": "1.5.0",
            "_model_name": "DescriptionStyleModel",
            "_view_count": null,
            "_view_module": "@jupyter-widgets/base",
            "_view_module_version": "1.2.0",
            "_view_name": "StyleView",
            "description_width": ""
          }
        },
        "bcc0551b956e48bc807365f20b84306d": {
          "model_module": "@jupyter-widgets/base",
          "model_name": "LayoutModel",
          "model_module_version": "1.2.0",
          "state": {
            "_model_module": "@jupyter-widgets/base",
            "_model_module_version": "1.2.0",
            "_model_name": "LayoutModel",
            "_view_count": null,
            "_view_module": "@jupyter-widgets/base",
            "_view_module_version": "1.2.0",
            "_view_name": "LayoutView",
            "align_content": null,
            "align_items": null,
            "align_self": null,
            "border": null,
            "bottom": null,
            "display": null,
            "flex": null,
            "flex_flow": null,
            "grid_area": null,
            "grid_auto_columns": null,
            "grid_auto_flow": null,
            "grid_auto_rows": null,
            "grid_column": null,
            "grid_gap": null,
            "grid_row": null,
            "grid_template_areas": null,
            "grid_template_columns": null,
            "grid_template_rows": null,
            "height": null,
            "justify_content": null,
            "justify_items": null,
            "left": null,
            "margin": null,
            "max_height": null,
            "max_width": null,
            "min_height": null,
            "min_width": null,
            "object_fit": null,
            "object_position": null,
            "order": null,
            "overflow": null,
            "overflow_x": null,
            "overflow_y": null,
            "padding": null,
            "right": null,
            "top": null,
            "visibility": null,
            "width": null
          }
        },
        "9cb7467d9d9141d9a562f39286df399a": {
          "model_module": "@jupyter-widgets/controls",
          "model_name": "ProgressStyleModel",
          "model_module_version": "1.5.0",
          "state": {
            "_model_module": "@jupyter-widgets/controls",
            "_model_module_version": "1.5.0",
            "_model_name": "ProgressStyleModel",
            "_view_count": null,
            "_view_module": "@jupyter-widgets/base",
            "_view_module_version": "1.2.0",
            "_view_name": "StyleView",
            "bar_color": null,
            "description_width": ""
          }
        },
        "1f2e01cf015a4735b480039e31180b05": {
          "model_module": "@jupyter-widgets/base",
          "model_name": "LayoutModel",
          "model_module_version": "1.2.0",
          "state": {
            "_model_module": "@jupyter-widgets/base",
            "_model_module_version": "1.2.0",
            "_model_name": "LayoutModel",
            "_view_count": null,
            "_view_module": "@jupyter-widgets/base",
            "_view_module_version": "1.2.0",
            "_view_name": "LayoutView",
            "align_content": null,
            "align_items": null,
            "align_self": null,
            "border": null,
            "bottom": null,
            "display": null,
            "flex": null,
            "flex_flow": null,
            "grid_area": null,
            "grid_auto_columns": null,
            "grid_auto_flow": null,
            "grid_auto_rows": null,
            "grid_column": null,
            "grid_gap": null,
            "grid_row": null,
            "grid_template_areas": null,
            "grid_template_columns": null,
            "grid_template_rows": null,
            "height": null,
            "justify_content": null,
            "justify_items": null,
            "left": null,
            "margin": null,
            "max_height": null,
            "max_width": null,
            "min_height": null,
            "min_width": null,
            "object_fit": null,
            "object_position": null,
            "order": null,
            "overflow": null,
            "overflow_x": null,
            "overflow_y": null,
            "padding": null,
            "right": null,
            "top": null,
            "visibility": null,
            "width": null
          }
        },
        "54be5f79a3e548f69795cda9e9a6179c": {
          "model_module": "@jupyter-widgets/controls",
          "model_name": "DescriptionStyleModel",
          "model_module_version": "1.5.0",
          "state": {
            "_model_module": "@jupyter-widgets/controls",
            "_model_module_version": "1.5.0",
            "_model_name": "DescriptionStyleModel",
            "_view_count": null,
            "_view_module": "@jupyter-widgets/base",
            "_view_module_version": "1.2.0",
            "_view_name": "StyleView",
            "description_width": ""
          }
        }
      }
    }
  },
  "nbformat": 4,
  "nbformat_minor": 0
}